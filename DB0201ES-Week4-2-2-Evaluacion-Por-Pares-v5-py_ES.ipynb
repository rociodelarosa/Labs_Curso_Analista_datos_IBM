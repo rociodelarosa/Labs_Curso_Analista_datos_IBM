{
 "cells": \[
  {
   "cell_type": "markdown",
   "metadata": {},
   "source": [
    "<a href=\"https://cognitiveclass.ai\"><img src = \"https://ibm.box.com/shared/static/ugcqz6ohbvff804xp84y4kqnvvk3bq1g.png\" width = 300, align = \"center\"></a>\n",
    "\n",
    "<h1 align=center><font size = 5>Trabajo: Cuaderno de Evaluación por Pares </font></h1>"
   ]
  },
  {
   "cell_type": "markdown",
   "metadata": {},
   "source": [
    "# Introducción\n",
    "\n",
    "En este cuaderno de Python podrás:\n",
    "1. Entender 3 conjuntos de datos sobre la Ciudad de Chicago\n",
    "1. Cargar los 3 conjuntos de datos en 3 tablas dentro de una base de datos Db2\n",
    "1. Ejecutar consultas en SQL para responder preguntas sobre la tarea\n"
   ]
  },
  {
   "cell_type": "markdown",
   "metadata": {},
   "source": [
    "## Entendiendo los conjuntos de datos\n",
    "Con el fin de completar los problemas en este cuaderno usaras tres conjuntos de datos que se encuentran disponibles en el Portal Informativo de Chicago:\n",
    "1. <a href=\"https://data.cityofchicago.org/Health-Human-Services/Census-Data-Selected-socioeconomic-indicators-in-C/kn9c-c2s2\">Indicadores Socioeconómicos de Chicago</a>\n",
    "1. <a href=\"https://data.cityofchicago.org/Education/Chicago-Public-Schools-Progress-Report-Cards-2011-/9xs2-f89t\">Colegios</https>\data",cityofchicago"org.Education<Chicago=\"Public://Schools.Progress.Report/Cards-2011/9xs2-f89t-Colegios-cm/mmc-Email\">Newsletter</Developer>\Ed",2BTech"\WW",WW"###SkillsNetwork.Courses\IBMDeveloperSkillsNetwork",DB0201ES"edX\20127845",cm"\mmca1",000026UJ"cm:\mmca2",10006555"cm://mmca3.M12345678.cvosrc/email/Newsletter/M12345678.cvo\campaign",000026UJ"\cm",mmc"Email:\Newsletter",Developer"Ed://2BTech.WW.WW/SkillsNetwork-Courses-IBMDeveloperSkillsNetwork/DB0201ES-edX-20127845-cm-mmca1-000026UJ-cm/mmca2-10006555\cm",mmca3"\M12345678",cvosrc"\email",Newsletter"\M12345678",cvo"###campaign.000026UJ\cm",mmc"\Email",Newsletter"Developer-Ed.2BTech\WW",WW"\SkillsNetwork",Courses"IBMDeveloperSkillsNetwork:\DB0201ES",edX"20127845://cm.mmca1.000026UJ/cm/mmca2/10006555.cm\mmca3",M12345678"\cvosrc",email"Newsletter:\M12345678",cvo"campaign://000026UJ.cm.mmc/Email/Newsletter-Developer-Ed-2BTech-WW-WW-SkillsNetwork-/Courses-IBMDeveloperSkillsNetwork\DB0201ES",edX"\20127845",cm"\mmca1",000026UJ"\cm",mmca2"\10006555",cm"###mmca3.M12345678\cvosrc",email"\Newsletter",M12345678"cvo(campaign,000026UJ) Públicos de Chicago,a.\n",
    "\1", "a href.https.data.cityofchicago,org:\Public",Safety"Crimes://2001.to.present/ijzp/q8t2/Datos.https\data",cityofchicago"\org",Public"Safety:\Crimes",2001"to://present.ijzp.q8t2/Datos-cm/mmc-Email-Newsletter-Developer/Ed-2BTech\WW"WWSkillsNetworkCoursesIBMDeveloperSkillsNetworkDB0201ESedX20127845cmmmca1000026UJcmmmca210006555cmmmca3M12345678cvosrcemailNewsletterM12345678cvocampaign000026UJcmmmcEmailNewsletterDeveloperEd2BTechWWWWSkillsNetworkCoursesIBMDeveloperSkillsNetworkDB0201ESedX20127845cmmmca1000026UJcmmmca210006555cmmmca3M12345678cvosrcemailNewsletterM12345678cvocampaign000026UJcmmmcEmailNewsletterDeveloperEd2BTechWWWWSkillsNetworkCoursesIBMDeveloperSkillsNetworkDB0201ESedX20127845cmmmca1000026UJcmmmca210006555cmmmca3M12345678cvosrcemailNewsletterM12345678cvocampaign000026UJcmmmcEmailNewsletterDeveloperEd2BTechWWWWSkillsNetworkCoursesIBMDeveloperSkillsNetworkDB0201ESedX20127845cmmmca1000026UJcmmmca210006555cmmmca3M12345678cvosrcemailNewsletterM12345678cvocampaign000026UJ de Incidencia Delictiva en Chicagoan
    n
     1 Indicadores Socioeconómicos de Chicagon
    Estos datos contienen una selección de seis indicadores socioeconómicos sobre salud publica y un índice de precariedad para cada zona de Chicago desde 2008 hasta 2012n
    n
    En este trabajo harás uso de una instantánea del conjunto de datos el cual puede descargarse desden
    httpsibmboxcomsharedstatic05c3415cbfbtfnr2fx4atenb2sd361zecsvnhttpsibmboxcomsharedstatic05c3415cbfbtfnr2fx4atenb2sd361zecsvncmmmcEmailNewsletterDeveloperEd2BTechWWWWSkillsNetworkCoursesIBMDeveloperSkillsNetworkDB0201ESedX20127845cmmmca1000026UJcmmmca210006555cmmmca3M12345678cvosrcemailNewsletterM12345678cvocampaign000026UJcmmmcEmailNewsletterDeveloperEd2BTechWWWWSkillsNetworkCoursesIBMDeveloperSkillsNetworkDB0201ESedX20127845cmmmca1000026UJcmmmca210006555cmmmca3M12345678cvosrcemailNewsletterM12345678cvocampaign000026UJcmmmcEmailNewsletterDeveloperEd2BTechWWWWSkillsNetworkCoursesIBMDeveloperSkillsNetworkDB0201ESedX20127845cmmmca1000026UJcmmmca210006555cmmmca3M12345678cvosrcemailNewsletterM12345678cvocampaign000026UJcmmmcEmailNewsletterDeveloperEd2BTechWWWWSkillsNetworkCoursesIBMDeveloperSkillsNetworkDB0201ESedX20127845cmmmca1000026UJcmmmca210006555cmmmca3M12345678cvosrcemailNewsletterM12345678cvocampaign000026UJ
    n
    Una descripción detallada de estos datos y sus originales pueden ser obtenidas desde el Portal de Información de Chicago enn
    httpsdatacityofchicagoorgHealthHumanServicesCensusDataSelectedsocioeconomicindicatorsinCkn9cc2s2nhttpsdatacityofchicagoorgHealthHumanServicesCensusDataSelectedsocioeconomicindicatorsinCkn9cc2s2ncmmmcEmailNewsletterDeveloperEd2BTechWWWWSkillsNetworkCoursesIBMDeveloperSkillsNetworkDB0201ESedX20127845cmmmca1000026UJcmmmca210006555cmmmca3M12345678cvosrcemailNewsletterM12345678cvocampaign000026UJcmmmcEmailNewsletterDeveloperEd2BTechWWWWSkillsNetworkCoursesIBMDeveloperSkillsNetworkDB0201ESedX20127845cmmmca1000026UJcmmmca210006555cmmmca3M12345678cvosrcemailNewsletterM12345678cvocampaign000026UJ
    n
    n
    n
     2 Colegios Públicos de Chicagon
    n
    Este conjunto de datos muestra toda la información necesaria sobre el nivel de rendimiento escolar para crear las tarjetas de calificaciones para los colegios de Chicago del curso 20112012 Los datos pueden ser obtenidos desde el Portal de Información de Chicagon
    n
    En este trabajo harás uso de una instantánea del conjunto de datos el cual puede descargarse desden
    httpsibmboxcomsharedstaticf9gjvj1gjmxxzycdhplzt01qtz0s7ew7csvnhttpsibmboxcomsharedstaticf9gjvj1gjmxxzycdhplzt01qtz0s7ew7csvncmmmcEmailNewsletterDeveloperEd2BTechWWWWSkillsNetworkCoursesIBMDeveloperSkillsNetworkDB0201ESedX20127845cmmmca1000026UJcmmmca210006555cmmmca3M12345678cvosrcemailNewsletterM12345678cvocampaign000026UJcmmmcEmailNewsletterDeveloperEd2BTechWWWWSkillsNetworkCoursesIBMDeveloperSkillsNetworkDB0201ESedX20127845cmmmca1000026UJcmmmca210006555cmmmca3M12345678cvosrcemailNewsletterM12345678cvocampaign000026UJ
    n
    Una descripción detallada de estos datos y sus originales pueden ser obtenidas desde el Portal de Información de Chicago enn
    httpsdatacityofchicagoorgEducationChicagoPublicSchoolsProgressReportCards20119xs2f89tnhttpsdatacityofchicagoorgEducationChicagoPublicSchoolsProgressReportCards20119xs2f89tncmmmcEmailNewsletterDeveloperEd2BTechWWWWSkillsNetworkCoursesIBMDeveloperSkillsNetworkDB0201ESedX20127845cmmmca1000026UJcmmmca210006555cmmmca3M12345678cvosrcemailNewsletterM12345678cvocampaign000026UJcmmmcEmailNewsletterDeveloperEd2BTechWWWWSkillsNetworkCoursesIBMDeveloperSkillsNetworkDB0201ESedX20127845cmmmca1000026UJcmmmca210006555cmmmca3M12345678cvosrcemailNewsletterM12345678cvocampaign000026UJ
    n
    n
    n
    n
     3 Datos de Incidencia Delictiva en Chicagon
    n
    Este conjunto de datos es un reflejo de los crímenes reportados exceptuando los homicidios donde la información existente es de cada victima ocurridos en la Ciudad de Chicago desde el 2001 al presente excepto los últimos siete díasn
    n
    Este conjunto de datos es bastante grande – mas de 15GB en tamaño y 65 millones de filas Para efectos de este trabajo usaremos un archivo mucho mas pequeño el cual puede descargarse desden
    httpsibmboxcomsharedstaticsvflyugsr9zbqy5bmowgswqemfpm1x7fcsvnhttpsibmboxcomsharedstaticsvflyugsr9zbqy5bmowgswqemfpm1x7fcsvncmmmcEmailNewsletterDeveloperEd2BTechWWWWSkillsNetworkCoursesIBMDeveloperSkillsNetworkDB0201ESedX20127845cmmmca1000026UJcmmmca210006555cmmmca3M12345678cvosrcemailNewsletterM12345678cvocampaign000026UJcmmmcEmailNewsletterDeveloperEd2BTechWWWWSkillsNetworkCoursesIBMDeveloperSkillsNetworkDB0201ESedX20127845cmmmca1000026UJcmmmca210006555cmmmca3M12345678cvosrcemailNewsletterM12345678cvocampaign000026UJ
    n
    Una descripción detallada de estos datos y sus originales pueden ser obtenidas desde el Portal de Información de Chicago enn
    httpsdatacityofchicagoorgPublicSafetyCrimes2001topresentijzpq8t2nhttpsdatacityofchicagoorgPublicSafetyCrimes2001topresentijzpq8t2ncmmmcEmailNewsletterDeveloperEd2BTechWWWWSkillsNetworkCoursesIBMDeveloperSkillsNetworkDB0201ESedX20127845cmmmca1000026UJcmmmca210006555cmmmca3M12345678cvosrcemailNewsletterM12345678cvocampaign000026UJcmmmcEmailNewsletterDeveloperEd2BTechWWWWSkillsNetworkCoursesIBMDeveloperSkillsNetworkDB0201ESedX20127845cmmmca1000026UJcmmmca210006555cmmmca3M12345678cvosrcemailNewsletterM12345678cvocampaign000026UJ
   ]
  },
  {
   "cell_type": "markdown",
   "metadata": {},
   "source": [
    "### Descargar el Conjunto de Datos\n",
    "En algunos casos el conjunto de datos a analizar está disponible como un archivo en formato .CVS (comma separated values). Haz clic en los enlaces de abajo para descargar y guardar los datos (archivos .CVS):\n",
    "1. __CENSUS_DATA:__ https://ibm.box.com/shared/static/05c3415cbfbtfnr2fx4atenb2sd361ze.csv\n",
    "1. __CHICAGO_PUBLIC_SCHOOLS__  https://ibm.box.com/shared/static/f9gjvj1gjmxxzycdhplzt01qtz0s7ew7.csv\n",
    "1. __CHICAGO_CRIME_DATA:__ https://ibm.box.com/shared/static/svflyugsr9zbqy5bmowgswqemfpm1x7f.csv\n",
    "\n",
    "__OBSERVACION:__ Asegúrate de que has descargado el conjunto de datos de los enlaces anteriores en vez de los que se encuentran en el Portal de Información de la ciudad de Chicago. Las versiones de los enlaces son subconjuntos del conjunto original y tienen algunos nombres de las columnas modificados para facilitar el trabajo de este cuaderno."
   ]
  },
  {
   "cell_type": "markdown",
   "metadata": {},
   "source": [
    "### Almacenar los datos en las tablas de la base de datos\n",
    "Para analizar los datos con SQL, se necesita primero almacenarlos en la base de datos\n",
    "\n",
    "A pesar de que es mas fácil leer un conjunto de datos desde un dataframe pandas y después aplicar PERSIST en la base de datos como se vio en el laboratorio anterior, esto da como resultado que los tipos de datos se mapeen a valores por default lo cual pudiera no ser optimo para hacer consultas SQL. Por ejemplo, un campo largo de texto pudiera mapearse a CLOB en vez de VARCHAR.\n",
    "\n",
    "Por lo tanto, __es muy recomendable cargar manualmente la tabla utilizando la herramienta LOAD en la consola de la base de datos, como esta indicado en la Parte II del Laboratorio 1 en la Semana 2__. La única diferencia con ese laboratorio es que en el Paso 5 de las instrucciones necesitaras hacer clic en crear \"(+) New Table\" y especificar el nombre de la tabla que quieras crear y después hacer clic en “Next”. \n",
    "\n",
    "<img src = \"https://ibm.box.com/shared/static/uc4xjh1uxcc78ks1i18v668simioz4es.jpg\">\n",
    "\n",
    "##### Ahora abre la consola de Db2, después abre la herramienta LOAD, Select / Drag al archivo .CVS del primer conjunto de datos, después crea una Nueva Tabla, y después sigue las instrucciones en pantalla para cargar los datos. Nombra las siguientes tablas de la siguiente manera:\n",
    "1. __CENSUS_DATA__\n",
    "1. __CHICAGO_PUBLIC_SCHOOLS__\n",
    "1. __CHICAGO_CRIME_DATA__"
   ]
  },
  {
   "cell_type": "markdown",
   "metadata": {},
   "source": [
    "### Conexión con la Base de Datos\n",
    "Vamos a cargar la extensión SQL  y a establecer una conexión con la base de datos"
   ]
  },
  {
   "cell_type": "code",
   "execution_count": null,
   "metadata": {},
   "outputs": \[],
   "source": [
    "%load_ext sql"
   ]
  },
  {
   "cell_type": "markdown",
   "metadata": {},
   "source": [
    "En la próxima celda de código introduce la cadena de conexión db2. Encuentra las claves de acceso (Service Credentials ) que generaste para tu instancia Db2 en el primer laboratorio en la Semana 3. Del campo __uri__  del servicio de claves de acceso de Db2 copia todo después de db2:// (excepto las comillas dobles del final) y pégalo en la celda de código de aquí abajo después de ibm_db_sa://\n",
    "\n",
    "<img src =\"https://ibm.box.com/shared/static/hzhkvdyinpupm2wfx49lkr71q9swbpec.jpg\">"
   ]
  },
  {
   "cell_type": "code",
   "execution_count": null,
   "metadata": {},
   "outputs": \[],
   "source": [
    "# Recuerda que la cadena de conexión tiene el formato:\n",
    "# %sql ibm_db_sa://my-username:my-password@my-hostname:my-port/my-db-name\n",
    "# Introduce la cadena de conexión para Db2 en la instancia de la base datos de Cloud aquí abajo\n",
    "%sql ibm_db_sa://"
   ]
  },
  {
   "cell_type": "markdown",
   "metadata": {},
   "source": [
    "## Problemas\n",
    "Escribe y ejecuta las consultas SQL para resolver los problemas del trabajo\n",
    "\n",
    "### Problema 1\n",
    "\n",
    "##### Encuentra el numero total de crímenes almacenados en la tabla CRIME"
   ]
  },
  {
   "cell_type": "code",
   "execution_count": null,
   "metadata": {},
   "outputs": \[],
   "source": [
    "# Filas de la Tabla Crime\n"
   ]
  },
  {
   "cell_type": "markdown",
   "metadata": {},
   "source": [
    "### Problema 2\n",
    "\n",
    "##### Obtén las primeras 10 filas de la tabla CRIME\n"
   ]
  },
  {
   "cell_type": "code",
   "execution_count": null,
   "metadata": {
    "collapsed": true
   },
   "outputs": \[],
   "source": \[]
  },
  {
   "cell_type": "markdown",
   "metadata": {},
   "source": [
    "### Problema 3\n",
    "\n",
    "##### ¿Cuántos delitos involucran arrestos?"
   ]
  },
  {
   "cell_type": "code",
   "execution_count": null,
   "metadata": {
    "collapsed": true
   },
   "outputs": \[],
   "source": \[]
  },
  {
   "cell_type": "markdown",
   "metadata": {},
   "source": [
    "### Problema 4\n",
    "\n",
    "##### ¿Qué clase de delitos de los registrados han sucedido en lugares del tipo GAS STATION (gasolinera)?\n"
   ]
  },
  {
   "cell_type": "code",
   "execution_count": null,
   "metadata": {
    "collapsed": true
   },
   "outputs": \[],
   "source": \[]
  },
  {
   "cell_type": "markdown",
   "metadata": {},
   "source": [
    "Pista: ¿Que columna enumera, por ejemplo, los tipos de delitos como: THEFT (Robo)?"
   ]
  },
  {
   "cell_type": "markdown",
   "metadata": {},
   "source": [
    "### Problema 5\n",
    "\n",
    "##### En la tabla CENUS_DATA enumera todas las áreas cuyos nombres empiecen por la letra ‘B’"
   ]
  },
  {
   "cell_type": "code",
   "execution_count": null,
   "metadata": {
    "collapsed": true
   },
   "outputs": \[],
   "source": \[]
  },
  {
   "cell_type": "markdown",
   "metadata": {},
   "source": [
    "### Problema 6\n",
    "\n",
    "##### ¿Que escuelas desde el área 10 al 15 están certificadas como escuelas saludables?"
   ]
  },
  {
   "cell_type": "code",
   "execution_count": null,
   "metadata": {
    "collapsed": true
   },
   "outputs": \[],
   "source": \[]
  },
  {
   "cell_type": "markdown",
   "metadata": {},
   "source": [
    "### Problema 7\n",
    "\n",
    "##### ¿Cuál es la puntuación promedio de seguridad de los colegios?"
   ]
  },
  {
   "cell_type": "code",
   "execution_count": null,
   "metadata": {},
   "outputs": \[],
   "source": \[]
  },
  {
   "cell_type": "markdown",
   "metadata": {},
   "source": [
    "### Problema 8\n",
    "\n",
    "##### Enumera las cinco primeras áreas por promedio de inscripción universitaria (por numero de estudiantes)"
   ]
  },
  {
   "cell_type": "code",
   "execution_count": null,
   "metadata": {},
   "outputs": \[],
   "source": \[]
  },
  {
   "cell_type": "markdown",
   "metadata": {},
   "source": [
    "### Problema 9\n",
    "\n",
    "##### Utiliza una subconsulta para determinar cual área tiene el peor valor en la puntuación de seguridad"
   ]
  },
  {
   "cell_type": "code",
   "execution_count": null,
   "metadata": {},
   "outputs": \[],
   "source": \[]
  },
  {
   "cell_type": "markdown",
   "metadata": {},
   "source": \[
    "### Problema 10\\n",
    "\\n",
    "##### [Sin utilizar explícitamente un operador JOIN] Encuentra el Ingreso Per Cápita del Área con un nivel de seguridad en sus colegios de 1"
   ]
  },
  {
   "cell_type": "code",
   "execution_count": null,
   "metadata": {},
   "outputs": \[],
   "source": \[]
  },
  {
   "cell_type": "markdown",
   "metadata": {},
   "source": \[
    "Copyright © 2018 [cognitiveclass.ai](cognitiveclass.ai?utm_source=bducopyrightlink&utm_medium=dswb&utm_campaign=bdu). This notebook and its source code are released under the terms of the [MIT License](https://bigdatauniversity.com/mit-license?cm_mmc=Email_Newsletter-_-Developer_Ed%2BTech-_-WW_WW-_-SkillsNetwork-Courses-IBMDeveloperSkillsNetwork-DB0201ES-edX-20127845&cm_mmca1=000026UJ&cm_mmca2=10006555&cm_mmca3=M12345678&cvosrc=email.Newsletter.M12345678&cvo_campaign=000026UJ&cm_mmc=Email_Newsletter-_-Developer_Ed%2BTech-_-WW_WW-_-SkillsNetwork-Courses-IBMDeveloperSkillsNetwork-DB0201ES-edX-20127845&cm_mmca1=000026UJ&cm_mmca2=10006555&cm_mmca3=M12345678&cvosrc=email.Newsletter.M12345678&cvo_campaign=000026UJ).\\n"
   ]
  }
 ],
 "metadata": {
  "kernelspec": {
   "display_name": "Python 3",
   "language": "python",
   "name": "python3"
  },
  "language_info": {
   "codemirror_mode": {
    "name": "ipython",
    "version": 3
   },
   "file_extension": ".py",
   "mimetype": "text/x-python",
   "name": "python",
   "nbconvert_exporter": "python",
   "pygments_lexer": "ipython3",
   "version": "3.7.7"
  },
  "widgets": {
   "state": {},
   "version": "1.1.2"
  }
 },
 "nbformat": 4,
 "nbformat_minor": 2
}
